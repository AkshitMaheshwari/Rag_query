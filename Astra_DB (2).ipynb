{
  "nbformat": 4,
  "nbformat_minor": 0,
  "metadata": {
    "colab": {
      "provenance": [],
      "gpuType": "T4"
    },
    "kernelspec": {
      "name": "python3",
      "display_name": "Python 3"
    },
    "language_info": {
      "name": "python"
    },
    "accelerator": "GPU"
  },
  "cells": [
    {
      "cell_type": "code",
      "execution_count": null,
      "metadata": {
        "id": "FieksgGNY6--"
      },
      "outputs": [],
      "source": [
        "!pip install torch==2.6.0 -q cassio datasets langchain openai tiktoken"
      ]
    },
    {
      "cell_type": "code",
      "source": [
        "!pip install langchain_community"
      ],
      "metadata": {
        "id": "6N0p3MyDdnKf"
      },
      "execution_count": null,
      "outputs": []
    },
    {
      "cell_type": "code",
      "source": [
        "!pip install langchain"
      ],
      "metadata": {
        "id": "k_ZIkH-QfK4G"
      },
      "execution_count": null,
      "outputs": []
    },
    {
      "cell_type": "code",
      "source": [
        "from langchain.vectorstores.cassandra import Cassandra"
      ],
      "metadata": {
        "id": "Xtaf48HcadYX"
      },
      "execution_count": null,
      "outputs": []
    },
    {
      "cell_type": "code",
      "source": [
        "from langchain.indexes.vectorstore import VectorStoreIndexWrapper"
      ],
      "metadata": {
        "id": "4ERqCnCNdgzQ"
      },
      "execution_count": null,
      "outputs": []
    },
    {
      "cell_type": "code",
      "source": [
        "%pip install langchain_openai"
      ],
      "metadata": {
        "id": "yHbGvq2vQeBs"
      },
      "execution_count": null,
      "outputs": []
    },
    {
      "cell_type": "code",
      "source": [
        "from langchain.llms import OpenAI\n",
        "from langchain_openai import ChatOpenAI"
      ],
      "metadata": {
        "id": "nek_RfVwf0th"
      },
      "execution_count": null,
      "outputs": []
    },
    {
      "cell_type": "code",
      "source": [
        "from langchain.embeddings import OpenAIEmbeddings"
      ],
      "metadata": {
        "id": "T81nmMSkf87A"
      },
      "execution_count": null,
      "outputs": []
    },
    {
      "cell_type": "code",
      "source": [
        "from datasets import load_dataset\n",
        "import cassio"
      ],
      "metadata": {
        "id": "r9-AaGN-gCpa"
      },
      "execution_count": null,
      "outputs": []
    },
    {
      "cell_type": "code",
      "source": [
        "!pip install PyPDF2"
      ],
      "metadata": {
        "id": "4iC7CU_jgKFw"
      },
      "execution_count": null,
      "outputs": []
    },
    {
      "cell_type": "code",
      "source": [
        "from PyPDF2 import PdfReader"
      ],
      "metadata": {
        "id": "oaaDM_0vgQQZ"
      },
      "execution_count": null,
      "outputs": []
    },
    {
      "cell_type": "code",
      "source": [
        "from google.colab import userdata"
      ],
      "metadata": {
        "id": "KU5nrjajgm1L"
      },
      "execution_count": null,
      "outputs": []
    },
    {
      "cell_type": "code",
      "source": [
        "Astra_DB_token = userdata.get('token')\n",
        "astr_db_id =  userdata.get('id')\n",
        "OpenAI_API_KEY = userdata.get('OPENAI_API')"
      ],
      "metadata": {
        "id": "f3nD6ZG4gp0L"
      },
      "execution_count": null,
      "outputs": []
    },
    {
      "cell_type": "code",
      "source": [
        "pdfreader = PdfReader(\"budget_speech.pdf\")"
      ],
      "metadata": {
        "id": "FPx7Gop36hiM"
      },
      "execution_count": null,
      "outputs": []
    },
    {
      "cell_type": "code",
      "source": [
        "from typing_extensions import Concatenate\n",
        "raw_text = \"\"\n",
        "for i, page in enumerate(pdfreader.pages):\n",
        "  content = page.extract_text()\n",
        "  if content:\n",
        "    raw_text += content"
      ],
      "metadata": {
        "id": "3DeE3k1L6_DI"
      },
      "execution_count": null,
      "outputs": []
    },
    {
      "cell_type": "code",
      "source": [
        "raw_text"
      ],
      "metadata": {
        "collapsed": true,
        "id": "YisDkoqb7iku"
      },
      "execution_count": null,
      "outputs": []
    },
    {
      "cell_type": "code",
      "source": [
        "cassio.init(token = Astra_DB_token,database_id = astr_db_id)"
      ],
      "metadata": {
        "id": "RiNvK-xt7na_"
      },
      "execution_count": null,
      "outputs": []
    },
    {
      "cell_type": "code",
      "source": [
        "llm = ChatOpenAI(openai_api_key = OpenAI_API_KEY,base_url = \"https://models.inference.ai.azure.com\",model=\"gpt-4o\")\n",
        "embedding  = OpenAIEmbeddings(openai_api_key = OpenAI_API_KEY,base_url = \"https://models.inference.ai.azure.com\",model = \"text-embedding-3-small\")"
      ],
      "metadata": {
        "id": "w98x2E-Y70CH"
      },
      "execution_count": null,
      "outputs": []
    },
    {
      "cell_type": "code",
      "source": [
        "astra_vector_store = Cassandra(\n",
        "    embedding = embedding,\n",
        "    table_name = \"qa_mini_demo\",\n",
        "    session = None,\n",
        "    keyspace = None,\n",
        ")"
      ],
      "metadata": {
        "id": "YQE-ZTaD8Z3d"
      },
      "execution_count": null,
      "outputs": []
    },
    {
      "cell_type": "code",
      "source": [
        "from langchain.text_splitter import CharacterTextSplitter"
      ],
      "metadata": {
        "id": "VbA3JODx82Ki"
      },
      "execution_count": null,
      "outputs": []
    },
    {
      "cell_type": "code",
      "source": [
        "text_splitter = CharacterTextSplitter(\n",
        "    separator = \"\\n\",\n",
        "    chunk_size = 800,\n",
        "    chunk_overlap = 200,\n",
        "    length_function = len,\n",
        ")\n",
        "texts = text_splitter.split_text(raw_text)"
      ],
      "metadata": {
        "id": "bzL9C1Gef5_2"
      },
      "execution_count": null,
      "outputs": []
    },
    {
      "cell_type": "code",
      "source": [
        "texts[:50]"
      ],
      "metadata": {
        "id": "Qr52jWbPgc2G"
      },
      "execution_count": null,
      "outputs": []
    },
    {
      "cell_type": "code",
      "source": [
        "astra_vector_store.add_texts(texts[:50])"
      ],
      "metadata": {
        "id": "_igf5xwygep-"
      },
      "execution_count": null,
      "outputs": []
    },
    {
      "cell_type": "code",
      "source": [
        "astra_vector_index = VectorStoreIndexWrapper(vectorstore=astra_vector_store)"
      ],
      "metadata": {
        "id": "7O2oFhW_N9wc"
      },
      "execution_count": null,
      "outputs": []
    },
    {
      "cell_type": "code",
      "source": [
        "input_query = \"How much the agriculture target will be increased to and what the focus wil be\"\n",
        "answer = astra_vector_index.query(input_query,llm=llm).strip()\n",
        "answer"
      ],
      "metadata": {
        "id": "WzBop-7uORAb"
      },
      "execution_count": null,
      "outputs": []
    },
    {
      "cell_type": "code",
      "source": [],
      "metadata": {
        "id": "u2aaFXvePF-T"
      },
      "execution_count": null,
      "outputs": []
    }
  ]
}